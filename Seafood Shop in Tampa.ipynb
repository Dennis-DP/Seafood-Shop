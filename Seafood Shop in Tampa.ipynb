{
 "cells": [
  {
   "cell_type": "markdown",
   "metadata": {},
   "source": [
    "## Best Place for Seafood Shop in Tampa (Florida)"
   ]
  },
  {
   "cell_type": "markdown",
   "metadata": {},
   "source": [
    "\n",
    "This analysis is part of my Applied Data Science Capstone course in Coursera. In this assignment I use my new skills in exploring, segmenting and clustering data and for the first time I prepare full report on my findings. Instruction for this assignment was to compare neighborhoods or cities and use Foursquare location data to solve a business problem.\n",
    "\n",
    "In my analysis I explore what would be the best place to establish a new Seafood shop in Tampa.\n",
    "\n",
    "Table of Contents:¶ \n",
    "1.\tIntroduction - Description of the Problem\n",
    "2.\tData\n",
    "3.\tMethodology\n",
    "•\tImport libraries\n",
    "•\tTampa Zip Codes and Coordinates\n",
    "•\tTampa Neighborhoods and Zip Codes\n",
    "•\tTampa Harbour and Zip codes\n",
    "•\tMerge the DataFrames: Zip Codes, Neighborhoods and Coordinates\n",
    "•\tTampa Neighborhoods and Population\n",
    "•\tSegmenting and Analyzing the Tampa Neighborhoods\n",
    "4.\tResults\n",
    "•\tThe most popular venues in Tampa neighborhoods\n",
    "5.\tDiscussion\n",
    "6.\tConclusion\n"
   ]
  },
  {
   "cell_type": "markdown",
   "metadata": {},
   "source": [
    "## 1. Introduction - Description of the Problem"
   ]
  },
  {
   "cell_type": "markdown",
   "metadata": {},
   "source": [
    "Florida comes as close to being completely surrounded by oceans as possible, thus this tropical peninsula has developed one of the most extensive fishing industries in the US. Your interest in opening a seafood market in the Sunshine State is understandable, so give yourself every chance to succeed by approaching your market with wisdom and a great plan. Keep your eye out for the power of Florida supermarkets—they’re steadily usurping Florida’s mom and pop fish shops. That said, muster all of your creativity and resources and you’ll enjoy smooth sailing ahead.\n",
    "\n",
    "Scope out the competition to make certain you’re ready to do battle with established businesses in the 40+ Florida counties already represented on the Florida Seafood Retail Market listing (see resources). Identify population pockets reflecting the demographic you seek—shoppers choosing freshly-caught fish and seafood over frozen tend to have more discretionary funds, so look for affluent neighborhoods.\n",
    "\n",
    "I chose Tampa, one of the cities in Florida, where I researched the best place to open a Seafood store.\n",
    "\n",
    "I’m exploring the possibilities in these viewpoints:\n",
    "\n",
    "What is geographically the best place to open a seafood shop in Tampa?\n",
    "What is the population in these neighborhoods?\n",
    "What are the most popular venues in each neighborhood? \n",
    "What about competitors? Are there other Seafood shop nearby?\n",
    "Is there a nearby port to get seafood to the store?\n",
    "How easy is it to find labor for the trade? \n",
    "What kind of employment in the area?\n",
    "\n",
    "\n"
   ]
  },
  {
   "cell_type": "markdown",
   "metadata": {},
   "source": [
    "## 2. Data\n"
   ]
  },
  {
   "cell_type": "markdown",
   "metadata": {},
   "source": [
    "I used four datasets in this analysis.\n",
    "\n",
    "-Foursquare location data. I used Foursquare for exploring the venues in Seattle: the most popular venues, other pet stores and pet related venues. More about Foursquare here: https://foursquare.com/\n",
    "\n",
    "-Eurostat Data- Database, Unemployment data  https://www.eurostat.com/datasets\n",
    "\n",
    "-Dataset  https://www.kaggle.com/datasets\n"
   ]
  },
  {
   "cell_type": "code",
   "execution_count": null,
   "metadata": {},
   "outputs": [],
   "source": []
  }
 ],
 "metadata": {
  "kernelspec": {
   "display_name": "Python",
   "language": "python",
   "name": "conda-env-python-py"
  },
  "language_info": {
   "codemirror_mode": {
    "name": "ipython",
    "version": 3
   },
   "file_extension": ".py",
   "mimetype": "text/x-python",
   "name": "python",
   "nbconvert_exporter": "python",
   "pygments_lexer": "ipython3",
   "version": "3.6.10"
  }
 },
 "nbformat": 4,
 "nbformat_minor": 4
}
